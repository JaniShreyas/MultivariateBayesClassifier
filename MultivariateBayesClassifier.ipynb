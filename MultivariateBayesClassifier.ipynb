{
 "cells": [
  {
   "cell_type": "code",
   "execution_count": 8,
   "metadata": {},
   "outputs": [],
   "source": [
    "import numpy as np\n",
    "from sklearn.datasets import load_iris"
   ]
  },
  {
   "cell_type": "code",
   "execution_count": 30,
   "metadata": {},
   "outputs": [],
   "source": [
    "def MLEmean(X, y):\n",
    "    #y will be 0 or 1\n",
    "\n",
    "    mu = np.zeros(shape = (len(X[0])))\n",
    "    for i in range(len(X)):\n",
    "        if y[i] == 1:\n",
    "            mu += X[i]\n",
    "\n",
    "    return mu/sum(y)\n",
    "\n",
    "def MLEcov(X, y):\n",
    "    mu = MLEmean(X, y)\n",
    "    covMat = np.zeros(shape = (len(X[0]), len(X[0])))\n",
    "    for i in range(len(X)):\n",
    "        covMat += np.outer(X[i] - mu, X[i] - mu) * y[i]\n",
    "    \n",
    "    return covMat/sum(y)"
   ]
  },
  {
   "cell_type": "code",
   "execution_count": 53,
   "metadata": {},
   "outputs": [
    {
     "name": "stdout",
     "output_type": "stream",
     "text": [
      "[2, 0, 1]\n"
     ]
    }
   ],
   "source": [
    "def MultivariateBayes(x, X, labels):\n",
    "    y = labels\n",
    "    y = y.reshape((len(y), 1))\n",
    "    uniqueLabels = np.unique(labels)\n",
    "\n",
    "    #Calc the MLE for the mean and covariance\n",
    "    means = np.zeros(shape = (len(uniqueLabels), len(X[0])))\n",
    "\n",
    "    for label in uniqueLabels:\n",
    "        means[label] = MLEmean(X, (y==label).astype(int))\n",
    "\n",
    "    covariances = np.zeros(shape = (len(uniqueLabels), len(X[0]), len(X[0])))\n",
    "\n",
    "    for label in uniqueLabels:\n",
    "        covariances[label] = MLEcov(X, (y==label).astype(int))\n",
    "\n",
    "    #now scale it up for variable values of x\n",
    "\n",
    "    outputLabels = []\n",
    "    for j in range(len(x)):\n",
    "        discdict = {}\n",
    "        for i in range(len(uniqueLabels)):\n",
    "            discdict[uniqueLabels[i]] = discriminant(x[j], means[i], covariances[i], (y==uniqueLabels[i]).astype(int))\n",
    "        \n",
    "        maxLabel = 0\n",
    "        for label in uniqueLabels:\n",
    "            if discdict[label] > discdict[maxLabel]:\n",
    "                maxLabel = label\n",
    "        \n",
    "        outputLabels.append(maxLabel)\n",
    "\n",
    "    return outputLabels\n",
    "\n",
    "def discriminant(x, mu, sigma, y):\n",
    "    prior = np.sum(y)/len(y)\n",
    "\n",
    "    sigmaInv = np.linalg.inv(sigma)\n",
    "    W = -0.5 * sigmaInv\n",
    "    w = np.matmul(sigmaInv, mu)\n",
    "    w0 = -0.5 * np.matmul(np.matmul(mu.transpose(), sigmaInv), mu) - 0.5 * np.log(np.linalg.det(sigma)) + np.log(prior)\n",
    "    g = np.matmul(np.matmul(x.transpose(), W), x) + np.matmul(w.transpose(), x) + w0\n",
    "    return g\n",
    "\n",
    "iris = load_iris()\n",
    "X = iris.data[:, (2,3)]\n",
    "labels = iris.target\n",
    "print(MultivariateBayes([X[100], X[0], X[50]], X, labels))\n",
    "    "
   ]
  },
  {
   "cell_type": "code",
   "execution_count": 43,
   "metadata": {},
   "outputs": [
    {
     "name": "stdout",
     "output_type": "stream",
     "text": [
      "2\n"
     ]
    }
   ],
   "source": [
    "X = iris.data[:, (2,3)]\n",
    "target = iris.target\n",
    "\n",
    "print(target[100])"
   ]
  },
  {
   "cell_type": "code",
   "execution_count": null,
   "metadata": {},
   "outputs": [],
   "source": []
  },
  {
   "cell_type": "code",
   "execution_count": 12,
   "metadata": {},
   "outputs": [
    {
     "name": "stdout",
     "output_type": "stream",
     "text": [
      "Testing\n"
     ]
    }
   ],
   "source": [
    "print(\"Testing\")"
   ]
  }
 ],
 "metadata": {
  "kernelspec": {
   "display_name": "base",
   "language": "python",
   "name": "python3"
  },
  "language_info": {
   "codemirror_mode": {
    "name": "ipython",
    "version": 3
   },
   "file_extension": ".py",
   "mimetype": "text/x-python",
   "name": "python",
   "nbconvert_exporter": "python",
   "pygments_lexer": "ipython3",
   "version": "3.10.9"
  },
  "orig_nbformat": 4
 },
 "nbformat": 4,
 "nbformat_minor": 2
}
